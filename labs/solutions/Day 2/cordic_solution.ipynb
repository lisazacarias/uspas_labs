{
 "cells": [
  {
   "attachments": {},
   "cell_type": "markdown",
   "metadata": {},
   "source": [
    "# Solution"
   ]
  },
  {
   "cell_type": "code",
   "execution_count": 1,
   "metadata": {},
   "outputs": [],
   "source": [
    "%matplotlib inline\n",
    "import pandas as pd\n",
    "import numpy as np\n",
    "import matplotlib.pyplot as plt\n",
    "\n",
    "plt.rcParams['figure.figsize'] = [6, 4]\n",
    "plt.rcParams['axes.grid'] = True\n",
    "plt.rcParams['axes.grid.which'] = \"both\"\n",
    "plt.rcParams['grid.linewidth'] = 0.5\n",
    "plt.rcParams['grid.alpha'] = 0.5\n",
    "plt.rcParams['font.size'] = 8\n",
    "\n",
    "cordic_gain = 1.64676"
   ]
  },
  {
   "attachments": {},
   "cell_type": "markdown",
   "metadata": {},
   "source": [
    "## Polar to Rectangular\n"
   ]
  },
  {
   "cell_type": "code",
   "execution_count": 2,
   "metadata": {},
   "outputs": [
    {
     "name": "stdout",
     "output_type": "stream",
     "text": [
      "rm -f cordic_ptor.csv cordic_rtop.csv cordic.pdf cordic_solution.pdf cordicg_b22.v\n",
      "python cordicgx.py 22 > cordicg_b22.v\n",
      "iverilog -P cordicg_tb.width=18\t\t\t -P cordicg_tb.nstg=20\t\t -Wall -Wno-timescale -o cordicg_tb cordicg_tb.v cordicg_b22.v cstageg.v addsubg.v\n",
      "vvp -N cordicg_tb +op=0 +of=cordic_ptor.csv\n",
      "Recording output to file:      cordic_ptor.csv\n",
      "width =   18, nstg =   20\n"
     ]
    }
   ],
   "source": [
    "!make clean\n",
    "!make cordic_ptor.csv"
   ]
  },
  {
   "cell_type": "code",
   "execution_count": 3,
   "metadata": {},
   "outputs": [],
   "source": [
    "DW = 18\n",
    "full_scale = (1 << DW)"
   ]
  },
  {
   "cell_type": "code",
   "execution_count": 4,
   "metadata": {},
   "outputs": [
    {
     "data": {
      "text/html": [
       "<div>\n",
       "<style scoped>\n",
       "    .dataframe tbody tr th:only-of-type {\n",
       "        vertical-align: middle;\n",
       "    }\n",
       "\n",
       "    .dataframe tbody tr th {\n",
       "        vertical-align: top;\n",
       "    }\n",
       "\n",
       "    .dataframe thead th {\n",
       "        text-align: right;\n",
       "    }\n",
       "</style>\n",
       "<table border=\"1\" class=\"dataframe\">\n",
       "  <thead>\n",
       "    <tr style=\"text-align: right;\">\n",
       "      <th></th>\n",
       "      <th>phasein</th>\n",
       "      <th>xin</th>\n",
       "      <th>yin</th>\n",
       "      <th>xout</th>\n",
       "      <th>yout</th>\n",
       "      <th>phaseout</th>\n",
       "    </tr>\n",
       "    <tr>\n",
       "      <th>T [ns]</th>\n",
       "      <th></th>\n",
       "      <th></th>\n",
       "      <th></th>\n",
       "      <th></th>\n",
       "      <th></th>\n",
       "      <th></th>\n",
       "    </tr>\n",
       "  </thead>\n",
       "  <tbody>\n",
       "    <tr>\n",
       "      <th>10</th>\n",
       "      <td>0</td>\n",
       "      <td>0</td>\n",
       "      <td>0</td>\n",
       "      <td>0</td>\n",
       "      <td>0</td>\n",
       "      <td>0</td>\n",
       "    </tr>\n",
       "    <tr>\n",
       "      <th>30</th>\n",
       "      <td>0</td>\n",
       "      <td>0</td>\n",
       "      <td>0</td>\n",
       "      <td>0</td>\n",
       "      <td>0</td>\n",
       "      <td>0</td>\n",
       "    </tr>\n",
       "    <tr>\n",
       "      <th>50</th>\n",
       "      <td>0</td>\n",
       "      <td>0</td>\n",
       "      <td>0</td>\n",
       "      <td>0</td>\n",
       "      <td>0</td>\n",
       "      <td>0</td>\n",
       "    </tr>\n",
       "    <tr>\n",
       "      <th>70</th>\n",
       "      <td>0</td>\n",
       "      <td>0</td>\n",
       "      <td>0</td>\n",
       "      <td>0</td>\n",
       "      <td>0</td>\n",
       "      <td>0</td>\n",
       "    </tr>\n",
       "    <tr>\n",
       "      <th>90</th>\n",
       "      <td>0</td>\n",
       "      <td>0</td>\n",
       "      <td>0</td>\n",
       "      <td>0</td>\n",
       "      <td>0</td>\n",
       "      <td>0</td>\n",
       "    </tr>\n",
       "    <tr>\n",
       "      <th>...</th>\n",
       "      <td>...</td>\n",
       "      <td>...</td>\n",
       "      <td>...</td>\n",
       "      <td>...</td>\n",
       "      <td>...</td>\n",
       "      <td>...</td>\n",
       "    </tr>\n",
       "    <tr>\n",
       "      <th>159910</th>\n",
       "      <td>-101666</td>\n",
       "      <td>54272</td>\n",
       "      <td>7943</td>\n",
       "      <td>43124</td>\n",
       "      <td>-79366</td>\n",
       "      <td>0</td>\n",
       "    </tr>\n",
       "    <tr>\n",
       "      <th>159930</th>\n",
       "      <td>-101613</td>\n",
       "      <td>54272</td>\n",
       "      <td>7944</td>\n",
       "      <td>43176</td>\n",
       "      <td>-79338</td>\n",
       "      <td>0</td>\n",
       "    </tr>\n",
       "    <tr>\n",
       "      <th>159950</th>\n",
       "      <td>-101560</td>\n",
       "      <td>54272</td>\n",
       "      <td>7945</td>\n",
       "      <td>43228</td>\n",
       "      <td>-79309</td>\n",
       "      <td>0</td>\n",
       "    </tr>\n",
       "    <tr>\n",
       "      <th>159970</th>\n",
       "      <td>-101507</td>\n",
       "      <td>54272</td>\n",
       "      <td>7946</td>\n",
       "      <td>43280</td>\n",
       "      <td>-79281</td>\n",
       "      <td>0</td>\n",
       "    </tr>\n",
       "    <tr>\n",
       "      <th>159990</th>\n",
       "      <td>-101454</td>\n",
       "      <td>54272</td>\n",
       "      <td>7947</td>\n",
       "      <td>43332</td>\n",
       "      <td>-79253</td>\n",
       "      <td>0</td>\n",
       "    </tr>\n",
       "  </tbody>\n",
       "</table>\n",
       "<p>8000 rows × 6 columns</p>\n",
       "</div>"
      ],
      "text/plain": [
       "        phasein    xin   yin   xout   yout  phaseout\n",
       "T [ns]                                              \n",
       "10            0      0     0      0      0         0\n",
       "30            0      0     0      0      0         0\n",
       "50            0      0     0      0      0         0\n",
       "70            0      0     0      0      0         0\n",
       "90            0      0     0      0      0         0\n",
       "...         ...    ...   ...    ...    ...       ...\n",
       "159910  -101666  54272  7943  43124 -79366         0\n",
       "159930  -101613  54272  7944  43176 -79338         0\n",
       "159950  -101560  54272  7945  43228 -79309         0\n",
       "159970  -101507  54272  7946  43280 -79281         0\n",
       "159990  -101454  54272  7947  43332 -79253         0\n",
       "\n",
       "[8000 rows x 6 columns]"
      ]
     },
     "execution_count": 4,
     "metadata": {},
     "output_type": "execute_result"
    }
   ],
   "source": [
    "df = pd.read_csv('cordic_ptor.csv', skipinitialspace=True)\n",
    "df.set_index('T [ns]')"
   ]
  },
  {
   "cell_type": "code",
   "execution_count": 5,
   "metadata": {},
   "outputs": [],
   "source": [
    "theta = np.pi / full_scale * df['phasein']"
   ]
  },
  {
   "cell_type": "code",
   "execution_count": 6,
   "metadata": {},
   "outputs": [],
   "source": [
    "df['xcheck'] = df['xin'] * np.cos(theta) - df['yin'] * np.sin(theta)\n",
    "df['ycheck'] = df['xin'] * np.sin(theta) + df['yin'] * np.cos(theta)\n",
    "df['xerror'] = (df['xcheck'] * cordic_gain) - df['xout']\n",
    "df['yerror'] = (df['ycheck'] * cordic_gain) - df['yout']"
   ]
  },
  {
   "cell_type": "code",
   "execution_count": 7,
   "metadata": {},
   "outputs": [
    {
     "name": "stdout",
     "output_type": "stream",
     "text": [
      "xout peak-to-peak error: 2.297 cnt, 0.0009 %\n",
      "xout rms error:          0.358 cnt, 0.0001 %\n"
     ]
    }
   ],
   "source": [
    "err_p2p = df['xerror'].max() - df['xerror'].min()\n",
    "err_rms = df['xerror'].std()\n",
    "print(f'xout peak-to-peak error: {err_p2p:.3f} cnt, {err_p2p / full_scale * 100:.4f} %')\n",
    "print(f'xout rms error:          {err_rms:.3f} cnt, {err_rms / full_scale * 100:.4f} %')"
   ]
  },
  {
   "cell_type": "code",
   "execution_count": 8,
   "metadata": {},
   "outputs": [
    {
     "data": {
      "text/html": [
       "<div>\n",
       "<style scoped>\n",
       "    .dataframe tbody tr th:only-of-type {\n",
       "        vertical-align: middle;\n",
       "    }\n",
       "\n",
       "    .dataframe tbody tr th {\n",
       "        vertical-align: top;\n",
       "    }\n",
       "\n",
       "    .dataframe thead th {\n",
       "        text-align: right;\n",
       "    }\n",
       "</style>\n",
       "<table border=\"1\" class=\"dataframe\">\n",
       "  <thead>\n",
       "    <tr style=\"text-align: right;\">\n",
       "      <th></th>\n",
       "      <th>xerror</th>\n",
       "      <th>yerror</th>\n",
       "    </tr>\n",
       "  </thead>\n",
       "  <tbody>\n",
       "    <tr>\n",
       "      <th>count</th>\n",
       "      <td>8000.000000</td>\n",
       "      <td>8000.000000</td>\n",
       "    </tr>\n",
       "    <tr>\n",
       "      <th>mean</th>\n",
       "      <td>-0.021085</td>\n",
       "      <td>-0.018349</td>\n",
       "    </tr>\n",
       "    <tr>\n",
       "      <th>std</th>\n",
       "      <td>0.358344</td>\n",
       "      <td>0.355289</td>\n",
       "    </tr>\n",
       "    <tr>\n",
       "      <th>min</th>\n",
       "      <td>-1.254179</td>\n",
       "      <td>-1.113595</td>\n",
       "    </tr>\n",
       "    <tr>\n",
       "      <th>25%</th>\n",
       "      <td>-0.281462</td>\n",
       "      <td>-0.276111</td>\n",
       "    </tr>\n",
       "    <tr>\n",
       "      <th>50%</th>\n",
       "      <td>-0.020349</td>\n",
       "      <td>-0.020113</td>\n",
       "    </tr>\n",
       "    <tr>\n",
       "      <th>75%</th>\n",
       "      <td>0.239083</td>\n",
       "      <td>0.241177</td>\n",
       "    </tr>\n",
       "    <tr>\n",
       "      <th>max</th>\n",
       "      <td>1.043313</td>\n",
       "      <td>1.102332</td>\n",
       "    </tr>\n",
       "  </tbody>\n",
       "</table>\n",
       "</div>"
      ],
      "text/plain": [
       "            xerror       yerror\n",
       "count  8000.000000  8000.000000\n",
       "mean     -0.021085    -0.018349\n",
       "std       0.358344     0.355289\n",
       "min      -1.254179    -1.113595\n",
       "25%      -0.281462    -0.276111\n",
       "50%      -0.020349    -0.020113\n",
       "75%       0.239083     0.241177\n",
       "max       1.043313     1.102332"
      ]
     },
     "execution_count": 8,
     "metadata": {},
     "output_type": "execute_result"
    }
   ],
   "source": [
    "df[['xerror', 'yerror']].describe()"
   ]
  },
  {
   "cell_type": "code",
   "execution_count": 9,
   "metadata": {},
   "outputs": [
    {
     "data": {
      "image/png": "[encoded data removed]",
      "text/plain": [
       "<Figure size 600x400 with 1 Axes>"
      ]
     },
     "metadata": {},
     "output_type": "display_data"
    }
   ],
   "source": [
    "df[['xout', 'yout']].plot();"
   ]
  },
  {
   "attachments": {},
   "cell_type": "markdown",
   "metadata": {},
   "source": [
    "## Rectangular to Polar"
   ]
  },
  {
   "cell_type": "code",
   "execution_count": 10,
   "metadata": {},
   "outputs": [
    {
     "name": "stdout",
     "output_type": "stream",
     "text": [
      "rm -f cordic_ptor.csv cordic_rtop.csv cordic.pdf cordic_solution.pdf cordicg_b22.v\n",
      "python cordicgx.py 22 > cordicg_b22.v\n",
      "iverilog -P cordicg_tb.width=18\t\t\t -P cordicg_tb.nstg=20\t\t -Wall -Wno-timescale -o cordicg_tb cordicg_tb.v cordicg_b22.v cstageg.v addsubg.v\n",
      "vvp -N cordicg_tb +op=1 +of=cordic_rtop.csv\n",
      "Recording output to file:      cordic_rtop.csv\n",
      "width =   18, nstg =   20\n"
     ]
    }
   ],
   "source": [
    "!make clean\n",
    "!make cordic_rtop.csv"
   ]
  },
  {
   "cell_type": "code",
   "execution_count": 11,
   "metadata": {},
   "outputs": [
    {
     "data": {
      "text/html": [
       "<div>\n",
       "<style scoped>\n",
       "    .dataframe tbody tr th:only-of-type {\n",
       "        vertical-align: middle;\n",
       "    }\n",
       "\n",
       "    .dataframe tbody tr th {\n",
       "        vertical-align: top;\n",
       "    }\n",
       "\n",
       "    .dataframe thead th {\n",
       "        text-align: right;\n",
       "    }\n",
       "</style>\n",
       "<table border=\"1\" class=\"dataframe\">\n",
       "  <thead>\n",
       "    <tr style=\"text-align: right;\">\n",
       "      <th></th>\n",
       "      <th>phasein</th>\n",
       "      <th>xin</th>\n",
       "      <th>yin</th>\n",
       "      <th>xout</th>\n",
       "      <th>yout</th>\n",
       "      <th>phaseout</th>\n",
       "    </tr>\n",
       "    <tr>\n",
       "      <th>T [ns]</th>\n",
       "      <th></th>\n",
       "      <th></th>\n",
       "      <th></th>\n",
       "      <th></th>\n",
       "      <th></th>\n",
       "      <th></th>\n",
       "    </tr>\n",
       "  </thead>\n",
       "  <tbody>\n",
       "    <tr>\n",
       "      <th>10</th>\n",
       "      <td>0</td>\n",
       "      <td>0</td>\n",
       "      <td>0</td>\n",
       "      <td>0</td>\n",
       "      <td>0</td>\n",
       "      <td>0</td>\n",
       "    </tr>\n",
       "    <tr>\n",
       "      <th>30</th>\n",
       "      <td>0</td>\n",
       "      <td>0</td>\n",
       "      <td>0</td>\n",
       "      <td>0</td>\n",
       "      <td>0</td>\n",
       "      <td>0</td>\n",
       "    </tr>\n",
       "    <tr>\n",
       "      <th>50</th>\n",
       "      <td>0</td>\n",
       "      <td>0</td>\n",
       "      <td>0</td>\n",
       "      <td>0</td>\n",
       "      <td>0</td>\n",
       "      <td>0</td>\n",
       "    </tr>\n",
       "    <tr>\n",
       "      <th>70</th>\n",
       "      <td>0</td>\n",
       "      <td>0</td>\n",
       "      <td>0</td>\n",
       "      <td>0</td>\n",
       "      <td>0</td>\n",
       "      <td>0</td>\n",
       "    </tr>\n",
       "    <tr>\n",
       "      <th>90</th>\n",
       "      <td>0</td>\n",
       "      <td>0</td>\n",
       "      <td>0</td>\n",
       "      <td>0</td>\n",
       "      <td>0</td>\n",
       "      <td>0</td>\n",
       "    </tr>\n",
       "    <tr>\n",
       "      <th>...</th>\n",
       "      <td>...</td>\n",
       "      <td>...</td>\n",
       "      <td>...</td>\n",
       "      <td>...</td>\n",
       "      <td>...</td>\n",
       "      <td>...</td>\n",
       "    </tr>\n",
       "    <tr>\n",
       "      <th>159910</th>\n",
       "      <td>0</td>\n",
       "      <td>-61893</td>\n",
       "      <td>9244</td>\n",
       "      <td>103054</td>\n",
       "      <td>0</td>\n",
       "      <td>249773</td>\n",
       "    </tr>\n",
       "    <tr>\n",
       "      <th>159930</th>\n",
       "      <td>0</td>\n",
       "      <td>-61909</td>\n",
       "      <td>9123</td>\n",
       "      <td>103051</td>\n",
       "      <td>0</td>\n",
       "      <td>249935</td>\n",
       "    </tr>\n",
       "    <tr>\n",
       "      <th>159950</th>\n",
       "      <td>0</td>\n",
       "      <td>-61924</td>\n",
       "      <td>9002</td>\n",
       "      <td>103046</td>\n",
       "      <td>0</td>\n",
       "      <td>250098</td>\n",
       "    </tr>\n",
       "    <tr>\n",
       "      <th>159970</th>\n",
       "      <td>0</td>\n",
       "      <td>-61939</td>\n",
       "      <td>8881</td>\n",
       "      <td>103042</td>\n",
       "      <td>0</td>\n",
       "      <td>250261</td>\n",
       "    </tr>\n",
       "    <tr>\n",
       "      <th>159990</th>\n",
       "      <td>0</td>\n",
       "      <td>-61954</td>\n",
       "      <td>8760</td>\n",
       "      <td>103038</td>\n",
       "      <td>0</td>\n",
       "      <td>250423</td>\n",
       "    </tr>\n",
       "  </tbody>\n",
       "</table>\n",
       "<p>8000 rows × 6 columns</p>\n",
       "</div>"
      ],
      "text/plain": [
       "        phasein    xin   yin    xout  yout  phaseout\n",
       "T [ns]                                              \n",
       "10            0      0     0       0     0         0\n",
       "30            0      0     0       0     0         0\n",
       "50            0      0     0       0     0         0\n",
       "70            0      0     0       0     0         0\n",
       "90            0      0     0       0     0         0\n",
       "...         ...    ...   ...     ...   ...       ...\n",
       "159910        0 -61893  9244  103054     0    249773\n",
       "159930        0 -61909  9123  103051     0    249935\n",
       "159950        0 -61924  9002  103046     0    250098\n",
       "159970        0 -61939  8881  103042     0    250261\n",
       "159990        0 -61954  8760  103038     0    250423\n",
       "\n",
       "[8000 rows x 6 columns]"
      ]
     },
     "execution_count": 11,
     "metadata": {},
     "output_type": "execute_result"
    }
   ],
   "source": [
    "df = pd.read_csv('cordic_rtop.csv', skipinitialspace=True)\n",
    "df.set_index('T [ns]')"
   ]
  },
  {
   "cell_type": "code",
   "execution_count": 12,
   "metadata": {},
   "outputs": [],
   "source": [
    "theta = np.arctan2(df['yin'], df['xin'])\n",
    "# rotate negative theta from [-pi, 0] to [pi, 2pi]\n",
    "theta[theta<0] += 2 * np.pi\n",
    "# scale to counts\n",
    "theta *= full_scale / np.pi\n",
    "# Add error array\n",
    "df['perror'] = theta - df['phaseout']\n",
    "df['rerror'] = df['xout'] / cordic_gain - np.hypot(df['xin'], df['yin'])"
   ]
  },
  {
   "cell_type": "code",
   "execution_count": 13,
   "metadata": {},
   "outputs": [
    {
     "name": "stdout",
     "output_type": "stream",
     "text": [
      "pout peak-to-peak error: 2.033 cnt, 0.0008 %\n",
      "pout rms error:          0.362 cnt, 0.0001 %\n"
     ]
    }
   ],
   "source": [
    "err_p2p = df['perror'].max() - df['perror'].min()\n",
    "err_rms = df['perror'].std()\n",
    "print(f'pout peak-to-peak error: {err_p2p:.3f} cnt, {err_p2p / full_scale * 100:.4f} %')\n",
    "print(f'pout rms error:          {err_rms:.3f} cnt, {err_rms / full_scale * 100:.4f} %')"
   ]
  },
  {
   "cell_type": "code",
   "execution_count": 14,
   "metadata": {},
   "outputs": [
    {
     "name": "stdout",
     "output_type": "stream",
     "text": [
      "rout peak-to-peak error: 1.012 cnt, 0.0004 %\n",
      "rout rms error:          0.192 cnt, 0.0001 %\n"
     ]
    }
   ],
   "source": [
    "err_p2p = df['rerror'].max() - df['rerror'].min()\n",
    "err_rms = df['rerror'].std()\n",
    "print(f'rout peak-to-peak error: {err_p2p:.3f} cnt, {err_p2p / full_scale * 100:.4f} %')\n",
    "print(f'rout rms error:          {err_rms:.3f} cnt, {err_rms / full_scale * 100:.4f} %')"
   ]
  },
  {
   "cell_type": "code",
   "execution_count": 15,
   "metadata": {},
   "outputs": [
    {
     "data": {
      "image/png": "[encoded data removed]",
      "text/plain": [
       "<Figure size 600x400 with 1 Axes>"
      ]
     },
     "metadata": {},
     "output_type": "display_data"
    }
   ],
   "source": [
    "df[['phaseout']].plot();"
   ]
  },
  {
   "attachments": {},
   "cell_type": "markdown",
   "metadata": {},
   "source": [
    "## Change data width, test Polar to Rectangular\n"
   ]
  },
  {
   "cell_type": "code",
   "execution_count": 16,
   "metadata": {},
   "outputs": [
    {
     "name": "stdout",
     "output_type": "stream",
     "text": [
      "rm -f cordic_ptor.csv cordic_rtop.csv cordic.pdf cordic_solution.pdf cordicg_b22.v\n",
      "python cordicgx.py 22 > cordicg_b22.v\n",
      "iverilog -P cordicg_tb.width=20 -P cordicg_tb.nstg=20\t\t -Wall -Wno-timescale -o cordicg_tb cordicg_tb.v cordicg_b22.v cstageg.v addsubg.v\n",
      "vvp -N cordicg_tb +op=0 +of=cordic_ptor.csv\n",
      "Recording output to file:      cordic_ptor.csv\n",
      "width =   20, nstg =   20\n"
     ]
    }
   ],
   "source": [
    "!make clean\n",
    "!make cordic_ptor.csv DW=20"
   ]
  },
  {
   "cell_type": "code",
   "execution_count": 17,
   "metadata": {},
   "outputs": [],
   "source": [
    "DW = 20\n",
    "full_scale = (1 << DW)"
   ]
  },
  {
   "cell_type": "code",
   "execution_count": 18,
   "metadata": {},
   "outputs": [],
   "source": [
    "df = pd.read_csv('cordic_ptor.csv', skipinitialspace=True)\n",
    "df.set_index('T [ns]');"
   ]
  },
  {
   "cell_type": "code",
   "execution_count": 19,
   "metadata": {},
   "outputs": [],
   "source": [
    "theta = np.pi / full_scale * df['phasein']\n",
    "df['xcheck'] = df['xin'] * np.cos(theta) - df['yin'] * np.sin(theta)\n",
    "df['ycheck'] = df['xin'] * np.sin(theta) + df['yin'] * np.cos(theta)\n",
    "df['xerror'] = (df['xcheck'] * cordic_gain) - df['xout']\n",
    "df['yerror'] = (df['ycheck'] * cordic_gain) - df['yout']"
   ]
  },
  {
   "cell_type": "code",
   "execution_count": 20,
   "metadata": {},
   "outputs": [
    {
     "name": "stdout",
     "output_type": "stream",
     "text": [
      "xout peak-to-peak error: 6.300 cnt, 0.0006 %\n",
      "xout rms error:          0.806 cnt, 0.0001 %\n"
     ]
    }
   ],
   "source": [
    "err_p2p = df['xerror'].max() - df['xerror'].min()\n",
    "err_rms = df['xerror'].std()\n",
    "print(f'xout peak-to-peak error: {err_p2p:.3f} cnt, {err_p2p / full_scale * 100:.4f} %')\n",
    "print(f'xout rms error:          {err_rms:.3f} cnt, {err_rms / full_scale * 100:.4f} %')"
   ]
  },
  {
   "cell_type": "code",
   "execution_count": 21,
   "metadata": {},
   "outputs": [
    {
     "data": {
      "image/png": "[encoded data removed]",
      "text/plain": [
       "<Figure size 600x400 with 1 Axes>"
      ]
     },
     "metadata": {},
     "output_type": "display_data"
    }
   ],
   "source": [
    "df[['xout', 'yout']].plot();"
   ]
  },
  {
   "attachments": {},
   "cell_type": "markdown",
   "metadata": {},
   "source": [
    "## Change pipeline stage, test Polar to Rectangular\n"
   ]
  },
  {
   "cell_type": "code",
   "execution_count": 22,
   "metadata": {},
   "outputs": [
    {
     "name": "stdout",
     "output_type": "stream",
     "text": [
      "rm -f cordic_ptor.csv cordic_rtop.csv cordic.pdf cordic_solution.pdf cordicg_b22.v\n",
      "python cordicgx.py 22 > cordicg_b22.v\n",
      "iverilog -P cordicg_tb.width=19 -P cordicg_tb.nstg=22 -Wall -Wno-timescale -o cordicg_tb cordicg_tb.v cordicg_b22.v cstageg.v addsubg.v\n",
      "vvp -N cordicg_tb +op=0 +of=cordic_ptor.csv\n",
      "Recording output to file:      cordic_ptor.csv\n",
      "width =   19, nstg =   22\n"
     ]
    }
   ],
   "source": [
    "!make clean\n",
    "!make cordic_ptor.csv NSTG=22 DW=19"
   ]
  },
  {
   "cell_type": "code",
   "execution_count": 28,
   "metadata": {},
   "outputs": [],
   "source": [
    "DW = 19\n",
    "full_scale = (1 << DW)"
   ]
  },
  {
   "cell_type": "code",
   "execution_count": 29,
   "metadata": {},
   "outputs": [],
   "source": [
    "df = pd.read_csv('cordic_ptor.csv', skipinitialspace=True)\n",
    "df.set_index('T [ns]');"
   ]
  },
  {
   "cell_type": "code",
   "execution_count": 30,
   "metadata": {},
   "outputs": [],
   "source": [
    "theta = np.pi / full_scale * df['phasein']\n",
    "df['xcheck'] = df['xin'] * np.cos(theta) - df['yin'] * np.sin(theta)\n",
    "df['ycheck'] = df['xin'] * np.sin(theta) + df['yin'] * np.cos(theta)\n",
    "df['xerror'] = (df['xcheck'] * cordic_gain) - df['xout']\n",
    "df['yerror'] = (df['ycheck'] * cordic_gain) - df['yout']"
   ]
  },
  {
   "cell_type": "code",
   "execution_count": 31,
   "metadata": {},
   "outputs": [
    {
     "name": "stdout",
     "output_type": "stream",
     "text": [
      "xout peak-to-peak error: 2.985 cnt, 0.0006 %\n",
      "xout rms error:          0.435 cnt, 0.0001 %\n"
     ]
    }
   ],
   "source": [
    "err_p2p = df['xerror'].max() - df['xerror'].min()\n",
    "err_rms = df['xerror'].std()\n",
    "print(f'xout peak-to-peak error: {err_p2p:.3f} cnt, {err_p2p / full_scale * 100:.4f} %')\n",
    "print(f'xout rms error:          {err_rms:.3f} cnt, {err_rms / full_scale * 100:.4f} %')"
   ]
  },
  {
   "cell_type": "code",
   "execution_count": 32,
   "metadata": {},
   "outputs": [
    {
     "data": {
      "image/png": "[encoded data removed]",
      "text/plain": [
       "<Figure size 600x400 with 1 Axes>"
      ]
     },
     "metadata": {},
     "output_type": "display_data"
    }
   ],
   "source": [
    "df[['xout', 'yout']].plot();"
   ]
  }
 ],
 "metadata": {
  "authors": [
   {
    "name": "Qiang Du"
   }
  ],
  "kernelspec": {
   "display_name": "uspas",
   "language": "python",
   "name": "python3"
  },
  "language_info": {
   "codemirror_mode": {
    "name": "ipython",
    "version": 3
   },
   "file_extension": ".py",
   "mimetype": "text/x-python",
   "name": "python",
   "nbconvert_exporter": "python",
   "pygments_lexer": "ipython3",
   "version": "3.9.15"
  },
  "orig_nbformat": 4,
  "subtitle": "Lab 5",
  "title": "CORDIC: solution",
  "vscode": {
   "interpreter": {
    "hash": "445213a42a0e253c9a968e12b105ea9b57be12018422e68920205282de5d5822"
   }
  }
 },
 "nbformat": 4,
 "nbformat_minor": 2
}
