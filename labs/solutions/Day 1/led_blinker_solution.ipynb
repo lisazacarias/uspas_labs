{
 "cells": [
  {
   "attachments": {},
   "cell_type": "markdown",
   "metadata": {},
   "source": [
    "# Solutions\n",
    "\n",
    "## RTL logic\n",
    "\n",
    "> If the frequency of `clk` is 100 MHz, what's the expected LED blinking rate for each bit?\n",
    "\n",
    "The following gtkwave simulation shows that the least significant bit cnt[0] is blinking at frequency of 50 MHz, or $100^6 /2^1$ Hz.\n",
    "\n",
    "![led_sim1](led_sim1.png)\n",
    "\n",
    "Given the `MSB` is 27, the 4 LEDs are blinking at the rate of:\n",
    "\n",
    "LED3: bit 27, $100^6 / 2^{28} = 0.37$ Hz\n",
    "\n",
    "LED2: bit 26, $100^6 / 2^{27} = 0.76$ Hz\n",
    "\n",
    "LED1: bit 25, $100^6 / 2^{26} = 1.49$ Hz\n",
    "\n",
    "LED0: bit 24, $100^6 / 2^{25} = 2.98$ Hz\n"
   ]
  },
  {
   "attachments": {},
   "cell_type": "markdown",
   "metadata": {},
   "source": [
    "## Your turn: make the LED dimmable\n",
    "\n",
    "Any implementation of PWM is acceptable. The idea is to stop the counter at a given setpoint, and then reset and repeat.\n",
    "\n",
    "The following example is from one of the top search results of \"FPGA PWM\" [fpga4fun.com](https://www.fpga4fun.com/PWM_DAC_1.html), and just wire the 4 LEDs to the PWM module, and set the `PWM_in` port to a ramping setpoint using different bits of the same counter, so the 4 LEDs will change the dimming brightness over time.\n",
    "\n",
    "New `led_test.v`:\n",
    "```verilog\n",
    "module led_test #(\n",
    "    parameter MSB = 27\n",
    ") (\n",
    "    input clk,\n",
    "    input reset,\n",
    "    output [3:0] led\n",
    ");\n",
    "\n",
    "reg [31:0] cnt=0;\n",
    "always @(posedge clk) begin\n",
    "    cnt <= reset ? 32'h0 : cnt + 1'b1;\n",
    "end\n",
    "\n",
    "PWM PWM_3 (.clk(clk), .PWM_in(cnt[MSB-0:MSB-3]), .PWM_out(led[3]));\n",
    "PWM PWM_2 (.clk(clk), .PWM_in(cnt[MSB-1:MSB-4]), .PWM_out(led[2]));\n",
    "PWM PWM_1 (.clk(clk), .PWM_in(cnt[MSB-2:MSB-5]), .PWM_out(led[1]));\n",
    "PWM PWM_0 (.clk(clk), .PWM_in(cnt[MSB-3:MSB-6]), .PWM_out(led[0]));\n",
    "\n",
    "endmodule\n",
    "\n",
    "// https://www.fpga4fun.com/PWM_DAC_1.html\n",
    "module PWM(\n",
    "    input clk,\n",
    "    input [3:0] PWM_in,\n",
    "    output PWM_out\n",
    ");\n",
    "\n",
    "reg [3:0] cnt=0;\n",
    "reg cnt_dir=0;  // 0 to count up, 1 to count down\n",
    "wire [3:0] cnt_next = cnt_dir ? cnt-1'b1 : cnt+1'b1;\n",
    "wire cnt_end = cnt_dir ? cnt==4'b0000 : cnt==4'b1111;\n",
    "\n",
    "always @(posedge clk) cnt <= cnt_end ? PWM_in : cnt_next;\n",
    "always @(posedge clk) cnt_dir <= cnt_dir ^ cnt_end;\n",
    "assign PWM_out = cnt_dir;\n",
    "endmodule\n",
    "```\n",
    "\n",
    "The following simulation shows details when setting the `MSB` to 8.\n",
    "![led_dim](led_sim2.png)\n",
    "\n",
    "The synthesized file now results in a changing brightness with a period.\n",
    "For LED3, this period is defined by the frequency of `cnt[27:24]`.\n",
    "\n"
   ]
  }
 ],
 "metadata": {
  "authors": [
   {
    "name": "Qiang Du"
   }
  ],
  "kernelspec": {
   "display_name": "uspas",
   "language": "python",
   "name": "python3"
  },
  "language_info": {
   "name": "python",
   "version": "3.9.15 | packaged by conda-forge | (main, Nov 22 2022, 08:55:37) \n[Clang 14.0.6 ]"
  },
  "orig_nbformat": 4,
  "subtitle": "Lab 3",
  "title": "LED blinker: solution",
  "vscode": {
   "interpreter": {
    "hash": "445213a42a0e253c9a968e12b105ea9b57be12018422e68920205282de5d5822"
   }
  }
 },
 "nbformat": 4,
 "nbformat_minor": 2
}
